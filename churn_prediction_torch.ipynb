{
 "cells": [
  {
   "cell_type": "code",
   "execution_count": 1,
   "metadata": {},
   "outputs": [],
   "source": [
    "import pandas as pd\n",
    "import numpy as np\n",
    "import torch\n",
    "import torch.nn as nn\n",
    "import matplotlib.pyplot as plt\n",
    "import seaborn as sns\n",
    "from sklearn.model_selection import train_test_split\n",
    "from tqdm import tqdm"
   ]
  },
  {
   "cell_type": "markdown",
   "metadata": {},
   "source": [
    "### Loading Data in a pandas dataframe"
   ]
  },
  {
   "cell_type": "code",
   "execution_count": 2,
   "metadata": {},
   "outputs": [
    {
     "data": {
      "text/html": [
       "<div>\n",
       "<style scoped>\n",
       "    .dataframe tbody tr th:only-of-type {\n",
       "        vertical-align: middle;\n",
       "    }\n",
       "\n",
       "    .dataframe tbody tr th {\n",
       "        vertical-align: top;\n",
       "    }\n",
       "\n",
       "    .dataframe thead th {\n",
       "        text-align: right;\n",
       "    }\n",
       "</style>\n",
       "<table border=\"1\" class=\"dataframe\">\n",
       "  <thead>\n",
       "    <tr style=\"text-align: right;\">\n",
       "      <th></th>\n",
       "      <th>CustomerID</th>\n",
       "      <th>Name</th>\n",
       "      <th>Age</th>\n",
       "      <th>Gender</th>\n",
       "      <th>Location</th>\n",
       "      <th>Subscription_Length_Months</th>\n",
       "      <th>Monthly_Bill</th>\n",
       "      <th>Total_Usage_GB</th>\n",
       "      <th>Churn</th>\n",
       "    </tr>\n",
       "  </thead>\n",
       "  <tbody>\n",
       "    <tr>\n",
       "      <th>0</th>\n",
       "      <td>1</td>\n",
       "      <td>Customer_1</td>\n",
       "      <td>63</td>\n",
       "      <td>Male</td>\n",
       "      <td>Los Angeles</td>\n",
       "      <td>17</td>\n",
       "      <td>73.36</td>\n",
       "      <td>236</td>\n",
       "      <td>0</td>\n",
       "    </tr>\n",
       "    <tr>\n",
       "      <th>1</th>\n",
       "      <td>2</td>\n",
       "      <td>Customer_2</td>\n",
       "      <td>62</td>\n",
       "      <td>Female</td>\n",
       "      <td>New York</td>\n",
       "      <td>1</td>\n",
       "      <td>48.76</td>\n",
       "      <td>172</td>\n",
       "      <td>0</td>\n",
       "    </tr>\n",
       "    <tr>\n",
       "      <th>2</th>\n",
       "      <td>3</td>\n",
       "      <td>Customer_3</td>\n",
       "      <td>24</td>\n",
       "      <td>Female</td>\n",
       "      <td>Los Angeles</td>\n",
       "      <td>5</td>\n",
       "      <td>85.47</td>\n",
       "      <td>460</td>\n",
       "      <td>0</td>\n",
       "    </tr>\n",
       "    <tr>\n",
       "      <th>3</th>\n",
       "      <td>4</td>\n",
       "      <td>Customer_4</td>\n",
       "      <td>36</td>\n",
       "      <td>Female</td>\n",
       "      <td>Miami</td>\n",
       "      <td>3</td>\n",
       "      <td>97.94</td>\n",
       "      <td>297</td>\n",
       "      <td>1</td>\n",
       "    </tr>\n",
       "    <tr>\n",
       "      <th>4</th>\n",
       "      <td>5</td>\n",
       "      <td>Customer_5</td>\n",
       "      <td>46</td>\n",
       "      <td>Female</td>\n",
       "      <td>Miami</td>\n",
       "      <td>19</td>\n",
       "      <td>58.14</td>\n",
       "      <td>266</td>\n",
       "      <td>0</td>\n",
       "    </tr>\n",
       "    <tr>\n",
       "      <th>...</th>\n",
       "      <td>...</td>\n",
       "      <td>...</td>\n",
       "      <td>...</td>\n",
       "      <td>...</td>\n",
       "      <td>...</td>\n",
       "      <td>...</td>\n",
       "      <td>...</td>\n",
       "      <td>...</td>\n",
       "      <td>...</td>\n",
       "    </tr>\n",
       "    <tr>\n",
       "      <th>99995</th>\n",
       "      <td>99996</td>\n",
       "      <td>Customer_99996</td>\n",
       "      <td>33</td>\n",
       "      <td>Male</td>\n",
       "      <td>Houston</td>\n",
       "      <td>23</td>\n",
       "      <td>55.13</td>\n",
       "      <td>226</td>\n",
       "      <td>1</td>\n",
       "    </tr>\n",
       "    <tr>\n",
       "      <th>99996</th>\n",
       "      <td>99997</td>\n",
       "      <td>Customer_99997</td>\n",
       "      <td>62</td>\n",
       "      <td>Female</td>\n",
       "      <td>New York</td>\n",
       "      <td>19</td>\n",
       "      <td>61.65</td>\n",
       "      <td>351</td>\n",
       "      <td>0</td>\n",
       "    </tr>\n",
       "    <tr>\n",
       "      <th>99997</th>\n",
       "      <td>99998</td>\n",
       "      <td>Customer_99998</td>\n",
       "      <td>64</td>\n",
       "      <td>Male</td>\n",
       "      <td>Chicago</td>\n",
       "      <td>17</td>\n",
       "      <td>96.11</td>\n",
       "      <td>251</td>\n",
       "      <td>1</td>\n",
       "    </tr>\n",
       "    <tr>\n",
       "      <th>99998</th>\n",
       "      <td>99999</td>\n",
       "      <td>Customer_99999</td>\n",
       "      <td>51</td>\n",
       "      <td>Female</td>\n",
       "      <td>New York</td>\n",
       "      <td>20</td>\n",
       "      <td>49.25</td>\n",
       "      <td>434</td>\n",
       "      <td>1</td>\n",
       "    </tr>\n",
       "    <tr>\n",
       "      <th>99999</th>\n",
       "      <td>100000</td>\n",
       "      <td>Customer_100000</td>\n",
       "      <td>27</td>\n",
       "      <td>Female</td>\n",
       "      <td>Los Angeles</td>\n",
       "      <td>19</td>\n",
       "      <td>76.57</td>\n",
       "      <td>173</td>\n",
       "      <td>1</td>\n",
       "    </tr>\n",
       "  </tbody>\n",
       "</table>\n",
       "<p>100000 rows × 9 columns</p>\n",
       "</div>"
      ],
      "text/plain": [
       "       CustomerID             Name  Age  Gender     Location  \\\n",
       "0               1       Customer_1   63    Male  Los Angeles   \n",
       "1               2       Customer_2   62  Female     New York   \n",
       "2               3       Customer_3   24  Female  Los Angeles   \n",
       "3               4       Customer_4   36  Female        Miami   \n",
       "4               5       Customer_5   46  Female        Miami   \n",
       "...           ...              ...  ...     ...          ...   \n",
       "99995       99996   Customer_99996   33    Male      Houston   \n",
       "99996       99997   Customer_99997   62  Female     New York   \n",
       "99997       99998   Customer_99998   64    Male      Chicago   \n",
       "99998       99999   Customer_99999   51  Female     New York   \n",
       "99999      100000  Customer_100000   27  Female  Los Angeles   \n",
       "\n",
       "       Subscription_Length_Months  Monthly_Bill  Total_Usage_GB  Churn  \n",
       "0                              17         73.36             236      0  \n",
       "1                               1         48.76             172      0  \n",
       "2                               5         85.47             460      0  \n",
       "3                               3         97.94             297      1  \n",
       "4                              19         58.14             266      0  \n",
       "...                           ...           ...             ...    ...  \n",
       "99995                          23         55.13             226      1  \n",
       "99996                          19         61.65             351      0  \n",
       "99997                          17         96.11             251      1  \n",
       "99998                          20         49.25             434      1  \n",
       "99999                          19         76.57             173      1  \n",
       "\n",
       "[100000 rows x 9 columns]"
      ]
     },
     "execution_count": 2,
     "metadata": {},
     "output_type": "execute_result"
    }
   ],
   "source": [
    "df = pd.read_excel(\"customer_churn_large_dataset.xlsx\")\n",
    "df"
   ]
  },
  {
   "cell_type": "markdown",
   "metadata": {},
   "source": [
    "### Checking for missing values"
   ]
  },
  {
   "cell_type": "code",
   "execution_count": 3,
   "metadata": {},
   "outputs": [
    {
     "data": {
      "text/plain": [
       "CustomerID                    False\n",
       "Name                          False\n",
       "Age                           False\n",
       "Gender                        False\n",
       "Location                      False\n",
       "Subscription_Length_Months    False\n",
       "Monthly_Bill                  False\n",
       "Total_Usage_GB                False\n",
       "Churn                         False\n",
       "dtype: bool"
      ]
     },
     "execution_count": 3,
     "metadata": {},
     "output_type": "execute_result"
    }
   ],
   "source": [
    "df.isna().any()"
   ]
  },
  {
   "cell_type": "markdown",
   "metadata": {},
   "source": [
    "### Checking for unique locations"
   ]
  },
  {
   "cell_type": "code",
   "execution_count": 4,
   "metadata": {},
   "outputs": [
    {
     "data": {
      "text/plain": [
       "array(['Los Angeles', 'New York', 'Miami', 'Chicago', 'Houston'],\n",
       "      dtype=object)"
      ]
     },
     "execution_count": 4,
     "metadata": {},
     "output_type": "execute_result"
    }
   ],
   "source": [
    "df['Location'].unique()"
   ]
  },
  {
   "cell_type": "markdown",
   "metadata": {},
   "source": [
    "### Mapping all locations and Genders to Intergers"
   ]
  },
  {
   "cell_type": "code",
   "execution_count": 5,
   "metadata": {},
   "outputs": [
    {
     "data": {
      "text/html": [
       "<div>\n",
       "<style scoped>\n",
       "    .dataframe tbody tr th:only-of-type {\n",
       "        vertical-align: middle;\n",
       "    }\n",
       "\n",
       "    .dataframe tbody tr th {\n",
       "        vertical-align: top;\n",
       "    }\n",
       "\n",
       "    .dataframe thead th {\n",
       "        text-align: right;\n",
       "    }\n",
       "</style>\n",
       "<table border=\"1\" class=\"dataframe\">\n",
       "  <thead>\n",
       "    <tr style=\"text-align: right;\">\n",
       "      <th></th>\n",
       "      <th>CustomerID</th>\n",
       "      <th>Name</th>\n",
       "      <th>Age</th>\n",
       "      <th>Gender</th>\n",
       "      <th>Location</th>\n",
       "      <th>Subscription_Length_Months</th>\n",
       "      <th>Monthly_Bill</th>\n",
       "      <th>Total_Usage_GB</th>\n",
       "      <th>Churn</th>\n",
       "    </tr>\n",
       "  </thead>\n",
       "  <tbody>\n",
       "    <tr>\n",
       "      <th>0</th>\n",
       "      <td>1</td>\n",
       "      <td>Customer_1</td>\n",
       "      <td>63</td>\n",
       "      <td>0</td>\n",
       "      <td>0</td>\n",
       "      <td>17</td>\n",
       "      <td>73.36</td>\n",
       "      <td>236</td>\n",
       "      <td>0</td>\n",
       "    </tr>\n",
       "    <tr>\n",
       "      <th>1</th>\n",
       "      <td>2</td>\n",
       "      <td>Customer_2</td>\n",
       "      <td>62</td>\n",
       "      <td>1</td>\n",
       "      <td>1</td>\n",
       "      <td>1</td>\n",
       "      <td>48.76</td>\n",
       "      <td>172</td>\n",
       "      <td>0</td>\n",
       "    </tr>\n",
       "    <tr>\n",
       "      <th>2</th>\n",
       "      <td>3</td>\n",
       "      <td>Customer_3</td>\n",
       "      <td>24</td>\n",
       "      <td>1</td>\n",
       "      <td>0</td>\n",
       "      <td>5</td>\n",
       "      <td>85.47</td>\n",
       "      <td>460</td>\n",
       "      <td>0</td>\n",
       "    </tr>\n",
       "    <tr>\n",
       "      <th>3</th>\n",
       "      <td>4</td>\n",
       "      <td>Customer_4</td>\n",
       "      <td>36</td>\n",
       "      <td>1</td>\n",
       "      <td>2</td>\n",
       "      <td>3</td>\n",
       "      <td>97.94</td>\n",
       "      <td>297</td>\n",
       "      <td>1</td>\n",
       "    </tr>\n",
       "    <tr>\n",
       "      <th>4</th>\n",
       "      <td>5</td>\n",
       "      <td>Customer_5</td>\n",
       "      <td>46</td>\n",
       "      <td>1</td>\n",
       "      <td>2</td>\n",
       "      <td>19</td>\n",
       "      <td>58.14</td>\n",
       "      <td>266</td>\n",
       "      <td>0</td>\n",
       "    </tr>\n",
       "    <tr>\n",
       "      <th>...</th>\n",
       "      <td>...</td>\n",
       "      <td>...</td>\n",
       "      <td>...</td>\n",
       "      <td>...</td>\n",
       "      <td>...</td>\n",
       "      <td>...</td>\n",
       "      <td>...</td>\n",
       "      <td>...</td>\n",
       "      <td>...</td>\n",
       "    </tr>\n",
       "    <tr>\n",
       "      <th>99995</th>\n",
       "      <td>99996</td>\n",
       "      <td>Customer_99996</td>\n",
       "      <td>33</td>\n",
       "      <td>0</td>\n",
       "      <td>4</td>\n",
       "      <td>23</td>\n",
       "      <td>55.13</td>\n",
       "      <td>226</td>\n",
       "      <td>1</td>\n",
       "    </tr>\n",
       "    <tr>\n",
       "      <th>99996</th>\n",
       "      <td>99997</td>\n",
       "      <td>Customer_99997</td>\n",
       "      <td>62</td>\n",
       "      <td>1</td>\n",
       "      <td>1</td>\n",
       "      <td>19</td>\n",
       "      <td>61.65</td>\n",
       "      <td>351</td>\n",
       "      <td>0</td>\n",
       "    </tr>\n",
       "    <tr>\n",
       "      <th>99997</th>\n",
       "      <td>99998</td>\n",
       "      <td>Customer_99998</td>\n",
       "      <td>64</td>\n",
       "      <td>0</td>\n",
       "      <td>3</td>\n",
       "      <td>17</td>\n",
       "      <td>96.11</td>\n",
       "      <td>251</td>\n",
       "      <td>1</td>\n",
       "    </tr>\n",
       "    <tr>\n",
       "      <th>99998</th>\n",
       "      <td>99999</td>\n",
       "      <td>Customer_99999</td>\n",
       "      <td>51</td>\n",
       "      <td>1</td>\n",
       "      <td>1</td>\n",
       "      <td>20</td>\n",
       "      <td>49.25</td>\n",
       "      <td>434</td>\n",
       "      <td>1</td>\n",
       "    </tr>\n",
       "    <tr>\n",
       "      <th>99999</th>\n",
       "      <td>100000</td>\n",
       "      <td>Customer_100000</td>\n",
       "      <td>27</td>\n",
       "      <td>1</td>\n",
       "      <td>0</td>\n",
       "      <td>19</td>\n",
       "      <td>76.57</td>\n",
       "      <td>173</td>\n",
       "      <td>1</td>\n",
       "    </tr>\n",
       "  </tbody>\n",
       "</table>\n",
       "<p>100000 rows × 9 columns</p>\n",
       "</div>"
      ],
      "text/plain": [
       "       CustomerID             Name  Age  Gender  Location  \\\n",
       "0               1       Customer_1   63       0         0   \n",
       "1               2       Customer_2   62       1         1   \n",
       "2               3       Customer_3   24       1         0   \n",
       "3               4       Customer_4   36       1         2   \n",
       "4               5       Customer_5   46       1         2   \n",
       "...           ...              ...  ...     ...       ...   \n",
       "99995       99996   Customer_99996   33       0         4   \n",
       "99996       99997   Customer_99997   62       1         1   \n",
       "99997       99998   Customer_99998   64       0         3   \n",
       "99998       99999   Customer_99999   51       1         1   \n",
       "99999      100000  Customer_100000   27       1         0   \n",
       "\n",
       "       Subscription_Length_Months  Monthly_Bill  Total_Usage_GB  Churn  \n",
       "0                              17         73.36             236      0  \n",
       "1                               1         48.76             172      0  \n",
       "2                               5         85.47             460      0  \n",
       "3                               3         97.94             297      1  \n",
       "4                              19         58.14             266      0  \n",
       "...                           ...           ...             ...    ...  \n",
       "99995                          23         55.13             226      1  \n",
       "99996                          19         61.65             351      0  \n",
       "99997                          17         96.11             251      1  \n",
       "99998                          20         49.25             434      1  \n",
       "99999                          19         76.57             173      1  \n",
       "\n",
       "[100000 rows x 9 columns]"
      ]
     },
     "execution_count": 5,
     "metadata": {},
     "output_type": "execute_result"
    }
   ],
   "source": [
    "location_map = {'Los Angeles':0,'New York':1,\n",
    "            'Miami':2,'Chicago':3, 'Houston':4}\n",
    "gender_map = {'Male':0,'Female':1}\n",
    "\n",
    "loc_df = df[\"Location\"].map(location_map)\n",
    "df[\"Location\"] = loc_df\n",
    "up_df = df[\"Gender\"].map(gender_map)\n",
    "df[\"Gender\"] = up_df\n",
    "df"
   ]
  },
  {
   "cell_type": "markdown",
   "metadata": {},
   "source": [
    "### Getting relevant Features and Targets"
   ]
  },
  {
   "cell_type": "code",
   "execution_count": 6,
   "metadata": {},
   "outputs": [],
   "source": [
    "features = ['Age','Gender','Location','Subscription_Length_Months','Monthly_Bill','Total_Usage_GB']\n",
    "target = ['Churn']"
   ]
  },
  {
   "cell_type": "markdown",
   "metadata": {},
   "source": [
    "### Checking correlation values between features"
   ]
  },
  {
   "cell_type": "code",
   "execution_count": 7,
   "metadata": {},
   "outputs": [
    {
     "data": {
      "text/html": [
       "<div>\n",
       "<style scoped>\n",
       "    .dataframe tbody tr th:only-of-type {\n",
       "        vertical-align: middle;\n",
       "    }\n",
       "\n",
       "    .dataframe tbody tr th {\n",
       "        vertical-align: top;\n",
       "    }\n",
       "\n",
       "    .dataframe thead th {\n",
       "        text-align: right;\n",
       "    }\n",
       "</style>\n",
       "<table border=\"1\" class=\"dataframe\">\n",
       "  <thead>\n",
       "    <tr style=\"text-align: right;\">\n",
       "      <th></th>\n",
       "      <th>Age</th>\n",
       "      <th>Gender</th>\n",
       "      <th>Location</th>\n",
       "      <th>Subscription_Length_Months</th>\n",
       "      <th>Monthly_Bill</th>\n",
       "      <th>Total_Usage_GB</th>\n",
       "    </tr>\n",
       "  </thead>\n",
       "  <tbody>\n",
       "    <tr>\n",
       "      <th>Age</th>\n",
       "      <td>1.000000</td>\n",
       "      <td>-0.000832</td>\n",
       "      <td>0.006660</td>\n",
       "      <td>0.003382</td>\n",
       "      <td>0.001110</td>\n",
       "      <td>0.001927</td>\n",
       "    </tr>\n",
       "    <tr>\n",
       "      <th>Gender</th>\n",
       "      <td>-0.000832</td>\n",
       "      <td>1.000000</td>\n",
       "      <td>-0.004848</td>\n",
       "      <td>-0.000320</td>\n",
       "      <td>-0.002239</td>\n",
       "      <td>0.001385</td>\n",
       "    </tr>\n",
       "    <tr>\n",
       "      <th>Location</th>\n",
       "      <td>0.006660</td>\n",
       "      <td>-0.004848</td>\n",
       "      <td>1.000000</td>\n",
       "      <td>0.001574</td>\n",
       "      <td>-0.003367</td>\n",
       "      <td>-0.001251</td>\n",
       "    </tr>\n",
       "    <tr>\n",
       "      <th>Subscription_Length_Months</th>\n",
       "      <td>0.003382</td>\n",
       "      <td>-0.000320</td>\n",
       "      <td>0.001574</td>\n",
       "      <td>1.000000</td>\n",
       "      <td>-0.005294</td>\n",
       "      <td>-0.002203</td>\n",
       "    </tr>\n",
       "    <tr>\n",
       "      <th>Monthly_Bill</th>\n",
       "      <td>0.001110</td>\n",
       "      <td>-0.002239</td>\n",
       "      <td>-0.003367</td>\n",
       "      <td>-0.005294</td>\n",
       "      <td>1.000000</td>\n",
       "      <td>0.003187</td>\n",
       "    </tr>\n",
       "    <tr>\n",
       "      <th>Total_Usage_GB</th>\n",
       "      <td>0.001927</td>\n",
       "      <td>0.001385</td>\n",
       "      <td>-0.001251</td>\n",
       "      <td>-0.002203</td>\n",
       "      <td>0.003187</td>\n",
       "      <td>1.000000</td>\n",
       "    </tr>\n",
       "  </tbody>\n",
       "</table>\n",
       "</div>"
      ],
      "text/plain": [
       "                                 Age    Gender  Location  \\\n",
       "Age                         1.000000 -0.000832  0.006660   \n",
       "Gender                     -0.000832  1.000000 -0.004848   \n",
       "Location                    0.006660 -0.004848  1.000000   \n",
       "Subscription_Length_Months  0.003382 -0.000320  0.001574   \n",
       "Monthly_Bill                0.001110 -0.002239 -0.003367   \n",
       "Total_Usage_GB              0.001927  0.001385 -0.001251   \n",
       "\n",
       "                            Subscription_Length_Months  Monthly_Bill  \\\n",
       "Age                                           0.003382      0.001110   \n",
       "Gender                                       -0.000320     -0.002239   \n",
       "Location                                      0.001574     -0.003367   \n",
       "Subscription_Length_Months                    1.000000     -0.005294   \n",
       "Monthly_Bill                                 -0.005294      1.000000   \n",
       "Total_Usage_GB                               -0.002203      0.003187   \n",
       "\n",
       "                            Total_Usage_GB  \n",
       "Age                               0.001927  \n",
       "Gender                            0.001385  \n",
       "Location                         -0.001251  \n",
       "Subscription_Length_Months       -0.002203  \n",
       "Monthly_Bill                      0.003187  \n",
       "Total_Usage_GB                    1.000000  "
      ]
     },
     "execution_count": 7,
     "metadata": {},
     "output_type": "execute_result"
    }
   ],
   "source": [
    "df[features].corr()"
   ]
  },
  {
   "cell_type": "code",
   "execution_count": 8,
   "metadata": {},
   "outputs": [
    {
     "data": {
      "image/png": "[encoded data removed]",
      "text/plain": [
       "<Figure size 640x480 with 2 Axes>"
      ]
     },
     "metadata": {},
     "output_type": "display_data"
    }
   ],
   "source": [
    "sns.heatmap(df[features].corr())\n",
    "plt.show()"
   ]
  },
  {
   "cell_type": "markdown",
   "metadata": {},
   "source": [
    "### Creating numpy arrays of our features and target"
   ]
  },
  {
   "cell_type": "code",
   "execution_count": 9,
   "metadata": {},
   "outputs": [
    {
     "name": "stdout",
     "output_type": "stream",
     "text": [
      "Input_Shape:(100000, 6), Target_Shape:(100000, 1)\n"
     ]
    }
   ],
   "source": [
    "input_ar = np.array(df[features])\n",
    "target_ar = np.array(df[target])\n",
    "print(f\"Input_Shape:{input_ar.shape}, Target_Shape:{target_ar.shape}\")"
   ]
  },
  {
   "cell_type": "markdown",
   "metadata": {},
   "source": [
    "#### We have six features and one target\n",
    "- Features\n",
    "    - Age,\n",
    "    - Gender\n",
    "    - Location\n",
    "    - Subscription_Length_Months\n",
    "    - Monthly_Bill\n",
    "    - Total_Usage_GB\n",
    "- Target\n",
    "    - Churn"
   ]
  },
  {
   "cell_type": "code",
   "execution_count": 10,
   "metadata": {},
   "outputs": [],
   "source": [
    "def std_data(x):\n",
    "    \"\"\"\n",
    "    Standardizing data\n",
    "    \"\"\"\n",
    "    mean = np.mean(x)\n",
    "    std = np.std(x)\n",
    "    x = x-mean\n",
    "    x = x/std\n",
    "    return x\n"
   ]
  },
  {
   "cell_type": "code",
   "execution_count": 57,
   "metadata": {},
   "outputs": [
    {
     "name": "stdout",
     "output_type": "stream",
     "text": [
      "1.2050804798491299e-16\n",
      "1.0\n"
     ]
    }
   ],
   "source": [
    "print(np.mean(input_ar))\n",
    "print(np.std(input_ar))"
   ]
  },
  {
   "cell_type": "code",
   "execution_count": 11,
   "metadata": {},
   "outputs": [
    {
     "data": {
      "text/plain": [
       "array([[ 63.  ,   0.  ,   0.  ,  17.  ,  73.36, 236.  ],\n",
       "       [ 62.  ,   1.  ,   1.  ,   1.  ,  48.76, 172.  ],\n",
       "       [ 24.  ,   1.  ,   0.  ,   5.  ,  85.47, 460.  ],\n",
       "       ...,\n",
       "       [ 64.  ,   0.  ,   3.  ,  17.  ,  96.11, 251.  ],\n",
       "       [ 51.  ,   1.  ,   1.  ,  20.  ,  49.25, 434.  ],\n",
       "       [ 27.  ,   1.  ,   0.  ,  19.  ,  76.57, 173.  ]])"
      ]
     },
     "execution_count": 11,
     "metadata": {},
     "output_type": "execute_result"
    }
   ],
   "source": [
    "input_ar"
   ]
  },
  {
   "cell_type": "code",
   "execution_count": 12,
   "metadata": {},
   "outputs": [
    {
     "name": "stdout",
     "output_type": "stream",
     "text": [
      "[[-0.03095688 -0.60261102 -0.60261102 -0.44835514  0.06304847  1.53882353]\n",
      " [-0.04003076 -0.59353714 -0.59353714 -0.59353714 -0.16016886  0.95809551]\n",
      " [-0.38483801 -0.59353714 -0.60261102 -0.55724164  0.17293309  3.57137157]\n",
      " ...\n",
      " [-0.02188301 -0.60261102 -0.57538939 -0.44835514  0.26947913  1.67493165]\n",
      " [-0.13984338 -0.59353714 -0.59353714 -0.42113351 -0.15572267  3.33545082]\n",
      " [-0.35761639 -0.59353714 -0.60261102 -0.43020739  0.0921756   0.96716939]]\n"
     ]
    }
   ],
   "source": [
    "# New standardized data\n",
    "input_ar = std_data(input_ar)\n",
    "print(input_ar)"
   ]
  },
  {
   "cell_type": "markdown",
   "metadata": {},
   "source": [
    "## Splitting Training and testing Data"
   ]
  },
  {
   "cell_type": "code",
   "execution_count": 13,
   "metadata": {},
   "outputs": [],
   "source": [
    "# splitting 20% testing data\n",
    "inputs_train,inputs_test,targets_train,targets_test = train_test_split(input_ar, target_ar, test_size=0.20)"
   ]
  },
  {
   "cell_type": "markdown",
   "metadata": {},
   "source": [
    "### Checking shapes of splits"
   ]
  },
  {
   "cell_type": "code",
   "execution_count": 14,
   "metadata": {},
   "outputs": [
    {
     "name": "stdout",
     "output_type": "stream",
     "text": [
      "x1:(80000, 6) y1:(20000, 6) x2:(80000, 1) y2:(20000, 1)\n"
     ]
    }
   ],
   "source": [
    "print(f\"x1:{inputs_train.shape} y1:{inputs_test.shape} x2:{targets_train.shape} y2:{targets_test.shape}\")"
   ]
  },
  {
   "cell_type": "markdown",
   "metadata": {},
   "source": [
    "### Converting numpy arrays to Tensors"
   ]
  },
  {
   "cell_type": "code",
   "execution_count": 15,
   "metadata": {},
   "outputs": [],
   "source": [
    "X_train = torch.from_numpy(inputs_train.astype(np.float32))\n",
    "X_test = torch.from_numpy(inputs_test.astype(np.float32))\n",
    "y_train = torch.from_numpy(targets_train.astype(np.float32))\n",
    "y_test = torch.from_numpy(targets_test.astype(np.float32))"
   ]
  },
  {
   "cell_type": "markdown",
   "metadata": {},
   "source": [
    "## Custom Neural Network with fine tuning for churn prediction"
   ]
  },
  {
   "cell_type": "code",
   "execution_count": 16,
   "metadata": {},
   "outputs": [],
   "source": [
    "class ChurnModel(nn.Module):\n",
    "    \"\"\"\n",
    "    Neural Network for churn prediction\n",
    "    \"\"\"\n",
    "    def __init__(self,no_of_features):\n",
    "        super(ChurnModel, self).__init__()\n",
    "        self.linear1 = nn.Linear(no_of_features,no_of_features*2)\n",
    "        self.relu = nn.ReLU()\n",
    "        self.linear2 = nn.Linear(no_of_features*2,1)\n",
    "        self.sigmoid = nn.Sigmoid()\n",
    "        \n",
    "\n",
    "    def forward(self, targets_train ):\n",
    "        out = self.linear1(targets_train)\n",
    "        out  = self.relu(out)\n",
    "        out = self.linear2(out)\n",
    "        out = self.sigmoid(out)\n",
    "        return out\n",
    "\n",
    "model = ChurnModel(no_of_features=6)"
   ]
  },
  {
   "cell_type": "markdown",
   "metadata": {},
   "source": [
    "## Model Architecture"
   ]
  },
  {
   "cell_type": "code",
   "execution_count": 17,
   "metadata": {},
   "outputs": [
    {
     "data": {
      "text/plain": [
       "ChurnModel(\n",
       "  (linear1): Linear(in_features=6, out_features=12, bias=True)\n",
       "  (relu): ReLU()\n",
       "  (linear2): Linear(in_features=12, out_features=1, bias=True)\n",
       "  (sigmoid): Sigmoid()\n",
       ")"
      ]
     },
     "execution_count": 17,
     "metadata": {},
     "output_type": "execute_result"
    }
   ],
   "source": [
    "model"
   ]
  },
  {
   "cell_type": "markdown",
   "metadata": {},
   "source": [
    "## Hyperparameters"
   ]
  },
  {
   "cell_type": "code",
   "execution_count": 52,
   "metadata": {},
   "outputs": [],
   "source": [
    "EPOCHS = 10*200\n",
    "LEARNING_RATE = 0.001\n",
    "criterion = torch.nn.BCELoss()\n",
    "optimizer = torch.optim.SGD(model.parameters(), lr=LEARNING_RATE)"
   ]
  },
  {
   "cell_type": "code",
   "execution_count": 53,
   "metadata": {},
   "outputs": [
    {
     "name": "stderr",
     "output_type": "stream",
     "text": [
      "Training Epochs:   4%|▍         | 79/2000 [00:00<00:12, 156.13it/s]"
     ]
    },
    {
     "name": "stdout",
     "output_type": "stream",
     "text": [
      "Iteration: 50. \n",
      "Test - Loss: 0.693576991558075. Sure_pred_acc: 49.85\n",
      "Train -  Loss: 0.693274736404419. Sure_pred_acc: 50.26125\n",
      "\n"
     ]
    },
    {
     "name": "stderr",
     "output_type": "stream",
     "text": [
      "Training Epochs:   6%|▌         | 111/2000 [00:00<00:13, 139.93it/s]"
     ]
    },
    {
     "name": "stdout",
     "output_type": "stream",
     "text": [
      "Iteration: 100. \n",
      "Test - Loss: 0.6935765147209167. Sure_pred_acc: 49.855\n",
      "Train -  Loss: 0.6932745575904846. Sure_pred_acc: 50.2575\n",
      "\n"
     ]
    },
    {
     "name": "stderr",
     "output_type": "stream",
     "text": [
      "Training Epochs:   9%|▊         | 171/2000 [00:01<00:13, 140.65it/s]"
     ]
    },
    {
     "name": "stdout",
     "output_type": "stream",
     "text": [
      "Iteration: 150. \n",
      "Test - Loss: 0.6935761570930481. Sure_pred_acc: 49.86\n",
      "Train -  Loss: 0.6932743191719055. Sure_pred_acc: 50.2575\n",
      "\n"
     ]
    },
    {
     "name": "stderr",
     "output_type": "stream",
     "text": [
      "Training Epochs:  11%|█         | 214/2000 [00:01<00:14, 122.36it/s]"
     ]
    },
    {
     "name": "stdout",
     "output_type": "stream",
     "text": [
      "Iteration: 200. \n",
      "Test - Loss: 0.6935757398605347. Sure_pred_acc: 49.87\n",
      "Train -  Loss: 0.6932741403579712. Sure_pred_acc: 50.2675\n",
      "\n"
     ]
    },
    {
     "name": "stderr",
     "output_type": "stream",
     "text": [
      "Training Epochs:  13%|█▎        | 267/2000 [00:01<00:13, 125.67it/s]"
     ]
    },
    {
     "name": "stdout",
     "output_type": "stream",
     "text": [
      "Iteration: 250. \n",
      "Test - Loss: 0.6935753226280212. Sure_pred_acc: 49.86\n",
      "Train -  Loss: 0.6932739019393921. Sure_pred_acc: 50.27375\n",
      "\n"
     ]
    },
    {
     "name": "stderr",
     "output_type": "stream",
     "text": [
      "Training Epochs:  16%|█▌        | 324/2000 [00:02<00:12, 137.37it/s]"
     ]
    },
    {
     "name": "stdout",
     "output_type": "stream",
     "text": [
      "Iteration: 300. \n",
      "Test - Loss: 0.6935749053955078. Sure_pred_acc: 49.86\n",
      "Train -  Loss: 0.6932736039161682. Sure_pred_acc: 50.2675\n",
      "\n"
     ]
    },
    {
     "name": "stderr",
     "output_type": "stream",
     "text": [
      "Training Epochs:  18%|█▊        | 366/2000 [00:02<00:12, 135.11it/s]"
     ]
    },
    {
     "name": "stdout",
     "output_type": "stream",
     "text": [
      "Iteration: 350. \n",
      "Test - Loss: 0.6935744881629944. Sure_pred_acc: 49.845\n",
      "Train -  Loss: 0.6932734847068787. Sure_pred_acc: 50.26125\n",
      "\n"
     ]
    },
    {
     "name": "stderr",
     "output_type": "stream",
     "text": [
      "Training Epochs:  21%|██        | 422/2000 [00:03<00:12, 124.77it/s]"
     ]
    },
    {
     "name": "stdout",
     "output_type": "stream",
     "text": [
      "Iteration: 400. \n",
      "Test - Loss: 0.6935740113258362. Sure_pred_acc: 49.84\n",
      "Train -  Loss: 0.6932733654975891. Sure_pred_acc: 50.26375\n",
      "\n"
     ]
    },
    {
     "name": "stderr",
     "output_type": "stream",
     "text": [
      "Training Epochs:  23%|██▎       | 466/2000 [00:03<00:11, 136.09it/s]"
     ]
    },
    {
     "name": "stdout",
     "output_type": "stream",
     "text": [
      "Iteration: 450. \n",
      "Test - Loss: 0.6935736536979675. Sure_pred_acc: 49.86\n",
      "Train -  Loss: 0.69327312707901. Sure_pred_acc: 50.2625\n",
      "\n"
     ]
    },
    {
     "name": "stderr",
     "output_type": "stream",
     "text": [
      "Training Epochs:  26%|██▋       | 526/2000 [00:03<00:10, 143.98it/s]"
     ]
    },
    {
     "name": "stdout",
     "output_type": "stream",
     "text": [
      "Iteration: 500. \n",
      "Test - Loss: 0.6935732364654541. Sure_pred_acc: 49.88\n",
      "Train -  Loss: 0.6932728290557861. Sure_pred_acc: 50.265\n",
      "\n"
     ]
    },
    {
     "name": "stderr",
     "output_type": "stream",
     "text": [
      "Training Epochs:  29%|██▊       | 571/2000 [00:04<00:10, 140.61it/s]"
     ]
    },
    {
     "name": "stdout",
     "output_type": "stream",
     "text": [
      "Iteration: 550. \n",
      "Test - Loss: 0.6935728788375854. Sure_pred_acc: 49.88\n",
      "Train -  Loss: 0.6932727098464966. Sure_pred_acc: 50.27375\n",
      "\n"
     ]
    },
    {
     "name": "stderr",
     "output_type": "stream",
     "text": [
      "Training Epochs:  31%|███       | 614/2000 [00:04<00:10, 132.67it/s]"
     ]
    },
    {
     "name": "stdout",
     "output_type": "stream",
     "text": [
      "Iteration: 600. \n",
      "Test - Loss: 0.6935723423957825. Sure_pred_acc: 49.895\n",
      "Train -  Loss: 0.6932724714279175. Sure_pred_acc: 50.27875\n",
      "\n"
     ]
    },
    {
     "name": "stderr",
     "output_type": "stream",
     "text": [
      "Training Epochs:  33%|███▎      | 668/2000 [00:05<00:10, 124.23it/s]"
     ]
    },
    {
     "name": "stdout",
     "output_type": "stream",
     "text": [
      "Iteration: 650. \n",
      "Test - Loss: 0.6935720443725586. Sure_pred_acc: 49.895\n",
      "Train -  Loss: 0.6932722926139832. Sure_pred_acc: 50.28125\n",
      "\n"
     ]
    },
    {
     "name": "stderr",
     "output_type": "stream",
     "text": [
      "Training Epochs:  36%|███▌      | 720/2000 [00:05<00:10, 123.40it/s]"
     ]
    },
    {
     "name": "stdout",
     "output_type": "stream",
     "text": [
      "Iteration: 700. \n",
      "Test - Loss: 0.6935716867446899. Sure_pred_acc: 49.905\n",
      "Train -  Loss: 0.6932721138000488. Sure_pred_acc: 50.28\n",
      "\n"
     ]
    },
    {
     "name": "stderr",
     "output_type": "stream",
     "text": [
      "Training Epochs:  39%|███▉      | 775/2000 [00:05<00:09, 127.97it/s]"
     ]
    },
    {
     "name": "stdout",
     "output_type": "stream",
     "text": [
      "Iteration: 750. \n",
      "Test - Loss: 0.6935712695121765. Sure_pred_acc: 49.89\n",
      "Train -  Loss: 0.6932718753814697. Sure_pred_acc: 50.285\n",
      "\n"
     ]
    },
    {
     "name": "stderr",
     "output_type": "stream",
     "text": [
      "Training Epochs:  41%|████      | 817/2000 [00:06<00:09, 130.13it/s]"
     ]
    },
    {
     "name": "stdout",
     "output_type": "stream",
     "text": [
      "Iteration: 800. \n",
      "Test - Loss: 0.6935708522796631. Sure_pred_acc: 49.89\n",
      "Train -  Loss: 0.6932716965675354. Sure_pred_acc: 50.285\n",
      "\n"
     ]
    },
    {
     "name": "stderr",
     "output_type": "stream",
     "text": [
      "Training Epochs:  44%|████▍     | 875/2000 [00:06<00:08, 139.43it/s]"
     ]
    },
    {
     "name": "stdout",
     "output_type": "stream",
     "text": [
      "Iteration: 850. \n",
      "Test - Loss: 0.6935704350471497. Sure_pred_acc: 49.89\n",
      "Train -  Loss: 0.6932715773582458. Sure_pred_acc: 50.29\n",
      "\n"
     ]
    },
    {
     "name": "stderr",
     "output_type": "stream",
     "text": [
      "Training Epochs:  46%|████▌     | 918/2000 [00:06<00:07, 141.23it/s]"
     ]
    },
    {
     "name": "stdout",
     "output_type": "stream",
     "text": [
      "Iteration: 900. \n",
      "Test - Loss: 0.6935701370239258. Sure_pred_acc: 49.88\n",
      "Train -  Loss: 0.6932713389396667. Sure_pred_acc: 50.28375\n",
      "\n"
     ]
    },
    {
     "name": "stderr",
     "output_type": "stream",
     "text": [
      "Training Epochs:  49%|████▉     | 978/2000 [00:07<00:07, 140.89it/s]"
     ]
    },
    {
     "name": "stdout",
     "output_type": "stream",
     "text": [
      "Iteration: 950. \n",
      "Test - Loss: 0.6935697197914124. Sure_pred_acc: 49.88\n",
      "Train -  Loss: 0.6932712197303772. Sure_pred_acc: 50.2775\n",
      "\n"
     ]
    },
    {
     "name": "stderr",
     "output_type": "stream",
     "text": [
      "Training Epochs:  51%|█████     | 1022/2000 [00:07<00:06, 140.51it/s]"
     ]
    },
    {
     "name": "stdout",
     "output_type": "stream",
     "text": [
      "Iteration: 1000. \n",
      "Test - Loss: 0.6935693621635437. Sure_pred_acc: 49.885\n",
      "Train -  Loss: 0.6932709813117981. Sure_pred_acc: 50.27125\n",
      "\n"
     ]
    },
    {
     "name": "stderr",
     "output_type": "stream",
     "text": [
      "Training Epochs:  53%|█████▎    | 1066/2000 [00:08<00:06, 139.95it/s]"
     ]
    },
    {
     "name": "stdout",
     "output_type": "stream",
     "text": [
      "Iteration: 1050. \n",
      "Test - Loss: 0.693569004535675. Sure_pred_acc: 49.89\n",
      "Train -  Loss: 0.693270742893219. Sure_pred_acc: 50.26625\n",
      "\n"
     ]
    },
    {
     "name": "stderr",
     "output_type": "stream",
     "text": [
      "Training Epochs:  56%|█████▋    | 1126/2000 [00:08<00:06, 137.93it/s]"
     ]
    },
    {
     "name": "stdout",
     "output_type": "stream",
     "text": [
      "Iteration: 1100. \n",
      "Test - Loss: 0.6935686469078064. Sure_pred_acc: 49.88\n",
      "Train -  Loss: 0.6932706236839294. Sure_pred_acc: 50.255\n",
      "\n"
     ]
    },
    {
     "name": "stderr",
     "output_type": "stream",
     "text": [
      "Training Epochs:  59%|█████▊    | 1171/2000 [00:08<00:05, 141.90it/s]"
     ]
    },
    {
     "name": "stdout",
     "output_type": "stream",
     "text": [
      "Iteration: 1150. \n",
      "Test - Loss: 0.6935682892799377. Sure_pred_acc: 49.87\n",
      "Train -  Loss: 0.6932705044746399. Sure_pred_acc: 50.2525\n",
      "\n"
     ]
    },
    {
     "name": "stderr",
     "output_type": "stream",
     "text": [
      "Training Epochs:  61%|██████    | 1217/2000 [00:09<00:05, 143.89it/s]"
     ]
    },
    {
     "name": "stdout",
     "output_type": "stream",
     "text": [
      "Iteration: 1200. \n",
      "Test - Loss: 0.6935679316520691. Sure_pred_acc: 49.865\n",
      "Train -  Loss: 0.693270206451416. Sure_pred_acc: 50.2475\n",
      "\n"
     ]
    },
    {
     "name": "stderr",
     "output_type": "stream",
     "text": [
      "Training Epochs:  64%|██████▍   | 1277/2000 [00:09<00:05, 142.40it/s]"
     ]
    },
    {
     "name": "stdout",
     "output_type": "stream",
     "text": [
      "Iteration: 1250. \n",
      "Test - Loss: 0.6935675740242004. Sure_pred_acc: 49.86\n",
      "Train -  Loss: 0.6932701468467712. Sure_pred_acc: 50.25125\n",
      "\n"
     ]
    },
    {
     "name": "stderr",
     "output_type": "stream",
     "text": [
      "Training Epochs:  66%|██████▌   | 1323/2000 [00:09<00:04, 144.45it/s]"
     ]
    },
    {
     "name": "stdout",
     "output_type": "stream",
     "text": [
      "Iteration: 1300. \n",
      "Test - Loss: 0.6935672163963318. Sure_pred_acc: 49.86\n",
      "Train -  Loss: 0.6932699084281921. Sure_pred_acc: 50.2525\n",
      "\n"
     ]
    },
    {
     "name": "stderr",
     "output_type": "stream",
     "text": [
      "Training Epochs:  68%|██████▊   | 1369/2000 [00:10<00:04, 144.34it/s]"
     ]
    },
    {
     "name": "stdout",
     "output_type": "stream",
     "text": [
      "Iteration: 1350. \n",
      "Test - Loss: 0.6935669183731079. Sure_pred_acc: 49.865\n",
      "Train -  Loss: 0.6932697892189026. Sure_pred_acc: 50.25\n",
      "\n"
     ]
    },
    {
     "name": "stderr",
     "output_type": "stream",
     "text": [
      "Training Epochs:  71%|███████   | 1414/2000 [00:10<00:04, 123.75it/s]"
     ]
    },
    {
     "name": "stdout",
     "output_type": "stream",
     "text": [
      "Iteration: 1400. \n",
      "Test - Loss: 0.6935665011405945. Sure_pred_acc: 49.87\n",
      "Train -  Loss: 0.6932696104049683. Sure_pred_acc: 50.255\n",
      "\n"
     ]
    },
    {
     "name": "stderr",
     "output_type": "stream",
     "text": [
      "Training Epochs:  74%|███████▎  | 1472/2000 [00:10<00:03, 137.15it/s]"
     ]
    },
    {
     "name": "stdout",
     "output_type": "stream",
     "text": [
      "Iteration: 1450. \n",
      "Test - Loss: 0.693566083908081. Sure_pred_acc: 49.885\n",
      "Train -  Loss: 0.6932693123817444. Sure_pred_acc: 50.24875\n",
      "\n"
     ]
    },
    {
     "name": "stderr",
     "output_type": "stream",
     "text": [
      "Training Epochs:  76%|███████▌  | 1517/2000 [00:11<00:03, 140.20it/s]"
     ]
    },
    {
     "name": "stdout",
     "output_type": "stream",
     "text": [
      "Iteration: 1500. \n",
      "Test - Loss: 0.693565845489502. Sure_pred_acc: 49.885\n",
      "Train -  Loss: 0.6932691931724548. Sure_pred_acc: 50.2475\n",
      "\n"
     ]
    },
    {
     "name": "stderr",
     "output_type": "stream",
     "text": [
      "Training Epochs:  79%|███████▉  | 1577/2000 [00:11<00:02, 142.57it/s]"
     ]
    },
    {
     "name": "stdout",
     "output_type": "stream",
     "text": [
      "Iteration: 1550. \n",
      "Test - Loss: 0.6935654282569885. Sure_pred_acc: 49.87\n",
      "Train -  Loss: 0.6932690143585205. Sure_pred_acc: 50.25\n",
      "\n"
     ]
    },
    {
     "name": "stderr",
     "output_type": "stream",
     "text": [
      "Training Epochs:  81%|████████  | 1622/2000 [00:12<00:02, 140.39it/s]"
     ]
    },
    {
     "name": "stdout",
     "output_type": "stream",
     "text": [
      "Iteration: 1600. \n",
      "Test - Loss: 0.6935650110244751. Sure_pred_acc: 49.85\n",
      "Train -  Loss: 0.6932688355445862. Sure_pred_acc: 50.24875\n",
      "\n"
     ]
    },
    {
     "name": "stderr",
     "output_type": "stream",
     "text": [
      "Training Epochs:  83%|████████▎ | 1666/2000 [00:12<00:02, 138.30it/s]"
     ]
    },
    {
     "name": "stdout",
     "output_type": "stream",
     "text": [
      "Iteration: 1650. \n",
      "Test - Loss: 0.693564772605896. Sure_pred_acc: 49.85\n",
      "Train -  Loss: 0.6932686567306519. Sure_pred_acc: 50.2425\n",
      "\n"
     ]
    },
    {
     "name": "stderr",
     "output_type": "stream",
     "text": [
      "Training Epochs:  86%|████████▌ | 1724/2000 [00:12<00:01, 142.24it/s]"
     ]
    },
    {
     "name": "stdout",
     "output_type": "stream",
     "text": [
      "Iteration: 1700. \n",
      "Test - Loss: 0.6935644149780273. Sure_pred_acc: 49.85\n",
      "Train -  Loss: 0.6932684779167175. Sure_pred_acc: 50.2475\n",
      "\n"
     ]
    },
    {
     "name": "stderr",
     "output_type": "stream",
     "text": [
      "Training Epochs:  88%|████████▊ | 1768/2000 [00:13<00:01, 128.85it/s]"
     ]
    },
    {
     "name": "stdout",
     "output_type": "stream",
     "text": [
      "Iteration: 1750. \n",
      "Test - Loss: 0.6935639977455139. Sure_pred_acc: 49.845\n",
      "Train -  Loss: 0.6932682394981384. Sure_pred_acc: 50.2325\n",
      "\n"
     ]
    },
    {
     "name": "stderr",
     "output_type": "stream",
     "text": [
      "Training Epochs:  91%|█████████▏| 1826/2000 [00:13<00:01, 138.60it/s]"
     ]
    },
    {
     "name": "stdout",
     "output_type": "stream",
     "text": [
      "Iteration: 1800. \n",
      "Test - Loss: 0.69356369972229. Sure_pred_acc: 49.84\n",
      "Train -  Loss: 0.6932681798934937. Sure_pred_acc: 50.23625\n",
      "\n"
     ]
    },
    {
     "name": "stderr",
     "output_type": "stream",
     "text": [
      "Training Epochs:  93%|█████████▎| 1868/2000 [00:13<00:00, 134.97it/s]"
     ]
    },
    {
     "name": "stdout",
     "output_type": "stream",
     "text": [
      "Iteration: 1850. \n",
      "Test - Loss: 0.6935634016990662. Sure_pred_acc: 49.835\n",
      "Train -  Loss: 0.6932680010795593. Sure_pred_acc: 50.2375\n",
      "\n"
     ]
    },
    {
     "name": "stderr",
     "output_type": "stream",
     "text": [
      "Training Epochs:  96%|█████████▋| 1926/2000 [00:14<00:00, 138.45it/s]"
     ]
    },
    {
     "name": "stdout",
     "output_type": "stream",
     "text": [
      "Iteration: 1900. \n",
      "Test - Loss: 0.6935630440711975. Sure_pred_acc: 49.84\n",
      "Train -  Loss: 0.6932677626609802. Sure_pred_acc: 50.24\n",
      "\n"
     ]
    },
    {
     "name": "stderr",
     "output_type": "stream",
     "text": [
      "Training Epochs:  98%|█████████▊| 1968/2000 [00:14<00:00, 132.13it/s]"
     ]
    },
    {
     "name": "stdout",
     "output_type": "stream",
     "text": [
      "Iteration: 1950. \n",
      "Test - Loss: 0.6935626864433289. Sure_pred_acc: 49.835\n",
      "Train -  Loss: 0.6932676434516907. Sure_pred_acc: 50.23625\n",
      "\n"
     ]
    },
    {
     "name": "stderr",
     "output_type": "stream",
     "text": [
      "Training Epochs: 100%|██████████| 2000/2000 [00:14<00:00, 134.60it/s]"
     ]
    },
    {
     "name": "stdout",
     "output_type": "stream",
     "text": [
      "Iteration: 2000. \n",
      "Test - Loss: 0.6935623288154602. Sure_pred_acc: 49.825\n",
      "Train -  Loss: 0.6932674050331116. Sure_pred_acc: 50.23625\n",
      "\n"
     ]
    },
    {
     "name": "stderr",
     "output_type": "stream",
     "text": [
      "\n"
     ]
    }
   ],
   "source": [
    "losses = []\n",
    "losses_test = []\n",
    "Iterations = []\n",
    "iter = 0\n",
    "for epoch in tqdm(range(int(EPOCHS)),desc='Training Epochs'):\n",
    "    x = X_train\n",
    "    labels = y_train\n",
    "    optimizer.zero_grad() # Setting our stored gradients equal to zero\n",
    "    outputs = model(X_train)\n",
    "    loss = criterion(outputs, labels) \n",
    "    \n",
    "    loss.backward() # Computes the gradient of the given tensor w.r.t. the weights/bias\n",
    "    \n",
    "    optimizer.step() # Updates weights and biases with the optimizer (SGD)\n",
    "    \n",
    "    iter+=1\n",
    "    if iter%50==0:\n",
    "        with torch.no_grad():\n",
    "            # Calculating the loss and accuracy for the test dataset\n",
    "            correct_test = 0\n",
    "            total_test = 0\n",
    "            outputs_test = model(X_test)\n",
    "            loss_test = criterion(outputs_test, y_test)\n",
    "            \n",
    "            predicted_test = outputs_test.round().detach().numpy()\n",
    "            total_test += y_test.size(0)\n",
    "            correct_test += np.sum(predicted_test == y_test.detach().numpy())\n",
    "            accuracy_test = 100 * correct_test/total_test\n",
    "            losses_test.append(loss_test.item())\n",
    "            \n",
    "            # Calculating the loss and accuracy for the train dataset\n",
    "            total = 0\n",
    "            correct = 0\n",
    "            total += y_train.size(0)\n",
    "            correct += np.sum(outputs.round().detach().numpy() == y_train.detach().numpy())\n",
    "            accuracy = 100 * correct/total\n",
    "            losses.append(loss.item())\n",
    "            Iterations.append(iter)\n",
    "            \n",
    "            print(f\"Iteration: {iter}. \\nTest - Loss: {loss_test.item()}. Sure_pred_acc: {accuracy_test}\")\n",
    "            print(f\"Train -  Loss: {loss.item()}. Sure_pred_acc: {accuracy}\\n\")"
   ]
  },
  {
   "cell_type": "code",
   "execution_count": 54,
   "metadata": {},
   "outputs": [],
   "source": [
    "torch.save(model,\"md_1.pth\")"
   ]
  },
  {
   "cell_type": "code",
   "execution_count": 55,
   "metadata": {},
   "outputs": [],
   "source": [
    "def predict_value(inputs):\n",
    "    if len(inputs)==6:\n",
    "        inputs = np.array(inputs)\n",
    "        inputs = std_data(inputs)\n",
    "        inputs = torch.from_numpy(inputs.astype(np.float32))\n",
    "        main_model = torch.load(\"md_1.pth\")\n",
    "        pred = main_model(inputs)\n",
    "        print(pred)\n",
    "        value = pred.item()\n",
    "        if value < 0.5:\n",
    "            print(\"Not Churned\")\n",
    "        else:\n",
    "            print(\"Churned\")\n",
    "    else:\n",
    "        print(\"Length not matchd!\")"
   ]
  },
  {
   "cell_type": "code",
   "execution_count": 56,
   "metadata": {},
   "outputs": [
    {
     "name": "stdout",
     "output_type": "stream",
     "text": [
      "tensor([0.4836], grad_fn=<SigmoidBackward0>)\n",
      "Not Churned\n"
     ]
    }
   ],
   "source": [
    "input_l = [63\t,0\t,0,\t17,\t73.36,\t236]\n",
    "predict_value(input_l)"
   ]
  },
  {
   "cell_type": "code",
   "execution_count": 49,
   "metadata": {},
   "outputs": [
    {
     "data": {
      "image/png": "[encoded data removed]",
      "text/plain": [
       "<Figure size 640x480 with 1 Axes>"
      ]
     },
     "metadata": {},
     "output_type": "display_data"
    }
   ],
   "source": [
    "plt.plot(losses)\n",
    "plt.title(\"Loss\")\n",
    "plt.show()"
   ]
  },
  {
   "cell_type": "code",
   "execution_count": 51,
   "metadata": {},
   "outputs": [
    {
     "data": {
      "image/png": "[encoded data removed]",
      "text/plain": [
       "<Figure size 640x480 with 1 Axes>"
      ]
     },
     "metadata": {},
     "output_type": "display_data"
    }
   ],
   "source": [
    "plt.plot(losses_test)\n",
    "plt.title(\"Loss Test\")\n",
    "plt.show()"
   ]
  },
  {
   "cell_type": "code",
   "execution_count": 26,
   "metadata": {},
   "outputs": [
    {
     "name": "stdout",
     "output_type": "stream",
     "text": [
      "linear1.weight Parameter containing:\n",
      "tensor([[ 0.0938,  0.0250, -0.1376, -0.0072,  0.0952,  0.3684],\n",
      "        [ 0.0712,  0.1758,  0.2586, -0.1760, -0.2386,  0.2628],\n",
      "        [-0.0068,  0.0648, -0.3263,  0.0690, -0.1155, -0.1262],\n",
      "        [ 0.1192, -0.3427,  0.0982,  0.2763, -0.2506,  0.3246],\n",
      "        [ 0.3475,  0.1960,  0.2421,  0.0483, -0.2673, -0.1604],\n",
      "        [ 0.3851, -0.0405, -0.1190,  0.1284, -0.0083, -0.3616],\n",
      "        [-0.0527, -0.2308,  0.0565,  0.0011,  0.3568,  0.0347],\n",
      "        [-0.1766, -0.2426,  0.2052, -0.2495,  0.2796, -0.0103],\n",
      "        [ 0.3422, -0.2537, -0.2134, -0.3337,  0.0006, -0.0120],\n",
      "        [-0.3119, -0.3257,  0.1899,  0.0984,  0.3735, -0.2203],\n",
      "        [-0.3935, -0.1106, -0.1878,  0.2365,  0.1022, -0.3381],\n",
      "        [-0.0159, -0.2185, -0.0338, -0.0406,  0.3663,  0.1249]],\n",
      "       requires_grad=True)\n",
      "linear1.bias Parameter containing:\n",
      "tensor([-0.0640,  0.1432,  0.3570,  0.2339, -0.0928, -0.0580, -0.2148, -0.3430,\n",
      "        -0.2090,  0.1156, -0.0236,  0.3071], requires_grad=True)\n",
      "linear2.weight Parameter containing:\n",
      "tensor([[-0.0487,  0.1958,  0.2195,  0.2236, -0.1915, -0.1949, -0.2149,  0.2004,\n",
      "          0.0306,  0.1971,  0.0137, -0.2835]], requires_grad=True)\n",
      "linear2.bias Parameter containing:\n",
      "tensor([0.2460], requires_grad=True)\n"
     ]
    }
   ],
   "source": [
    "for name, param in model.named_parameters():\n",
    "        print(name,param)"
   ]
  }
 ],
 "metadata": {
  "kernelspec": {
   "display_name": "Python 3",
   "language": "python",
   "name": "python3"
  },
  "language_info": {
   "codemirror_mode": {
    "name": "ipython",
    "version": 3
   },
   "file_extension": ".py",
   "mimetype": "text/x-python",
   "name": "python",
   "nbconvert_exporter": "python",
   "pygments_lexer": "ipython3",
   "version": "3.10.12"
  },
  "orig_nbformat": 4
 },
 "nbformat": 4,
 "nbformat_minor": 2
}
